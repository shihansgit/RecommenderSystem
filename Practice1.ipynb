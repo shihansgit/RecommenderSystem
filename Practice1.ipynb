{
 "cells": [
  {
   "cell_type": "markdown",
   "metadata": {},
   "source": [
    "path = \"/home/jovyan/OneDrive/DESKTOP/amazon_reviews_us_Gift_Card_v1_00.tsv.gz\""
   ]
  },
  {
   "cell_type": "code",
   "execution_count": 2,
   "metadata": {},
   "outputs": [],
   "source": [
    "import gzip\n"
   ]
  },
  {
   "cell_type": "code",
   "execution_count": 3,
   "metadata": {},
   "outputs": [],
   "source": [
    "f = gzip.open(path, 'rt', encoding='utf8')"
   ]
  },
  {
   "cell_type": "markdown",
   "metadata": {},
   "source": [
    "### Tasks - Regression 1."
   ]
  },
  {
   "cell_type": "code",
   "execution_count": 4,
   "metadata": {},
   "outputs": [],
   "source": [
    "dataset = []\n",
    "header = f.readline().strip().split('\\t')\n",
    "for line in f:\n",
    "    line = line.split('\\t')\n",
    "    d = dict(zip(header, line))\n",
    "    d['star_rating'] = int(d['star_rating'])\n",
    "    d2 = {}\n",
    "    for field in ['star_rating']:\n",
    "        d2[field] = d[field]\n",
    "    dataset.append(d2)"
   ]
  },
  {
   "cell_type": "code",
   "execution_count": 5,
   "metadata": {},
   "outputs": [
    {
     "data": {
      "text/plain": [
       "['marketplace',\n",
       " 'customer_id',\n",
       " 'review_id',\n",
       " 'product_id',\n",
       " 'product_parent',\n",
       " 'product_title',\n",
       " 'product_category',\n",
       " 'star_rating',\n",
       " 'helpful_votes',\n",
       " 'total_votes',\n",
       " 'vine',\n",
       " 'verified_purchase',\n",
       " 'review_headline',\n",
       " 'review_body',\n",
       " 'review_date']"
      ]
     },
     "execution_count": 5,
     "metadata": {},
     "output_type": "execute_result"
    }
   ],
   "source": [
    "header"
   ]
  },
  {
   "cell_type": "code",
   "execution_count": 6,
   "metadata": {},
   "outputs": [
    {
     "data": {
      "text/plain": [
       "[4793, 1569, 3156, 9859, 129709]"
      ]
     },
     "execution_count": 6,
     "metadata": {},
     "output_type": "execute_result"
    }
   ],
   "source": [
    "rating_plot = []\n",
    "for i in range(1,6):\n",
    "    rating_plot.append(dataset.count({'star_rating': i}))\n",
    "rating_plot"
   ]
  },
  {
   "cell_type": "code",
   "execution_count": 8,
   "metadata": {},
   "outputs": [
    {
     "data": {
      "text/plain": [
       "[<matplotlib.lines.Line2D at 0x7f646c17e630>]"
      ]
     },
     "execution_count": 8,
     "metadata": {},
     "output_type": "execute_result"
    },
    {
     "data": {
      "image/png": "[encoded data removed]",
      "text/plain": [
       "<Figure size 432x288 with 1 Axes>"
      ]
     },
     "metadata": {
      "needs_background": "light"
     },
     "output_type": "display_data"
    }
   ],
   "source": [
    "from matplotlib import pyplot as plt\n",
    "Y = rating_plot\n",
    "X = ['one star', 'two star', 'three star', 'four star', 'five star']\n",
    "plt.ylabel('Number of Reviews')\n",
    "plt.xlabel('Star Rating')\n",
    "plt.title('Distribution of Star Ratings')\n",
    "plt.plot(X,Y)"
   ]
  },
  {
   "cell_type": "markdown",
   "metadata": {},
   "source": [
    "### Tasks - Regression 3."
   ]
  },
  {
   "cell_type": "code",
   "execution_count": 9,
   "metadata": {},
   "outputs": [],
   "source": [
    "import numpy as np\n",
    "np.warnings.filterwarnings('ignore')"
   ]
  },
  {
   "cell_type": "code",
   "execution_count": 10,
   "metadata": {},
   "outputs": [],
   "source": [
    "f1 = gzip.open(path, 'rt', encoding='utf8')"
   ]
  },
  {
   "cell_type": "code",
   "execution_count": 11,
   "metadata": {},
   "outputs": [],
   "source": [
    "dataset1 = []\n",
    "header1 = f1.readline().strip().split('\\t')\n",
    "for line1 in f1:\n",
    "    line1 = line1.split('\\t')\n",
    "    d1 = dict(zip(header1, line1))\n",
    "    d1['star_rating'] = int(d1['star_rating'])\n",
    "    d1['review_body'] = len(d1['review_body'])\n",
    "    d1['helpful_votes'] = int(d1['helpful_votes'])\n",
    "    d3 = {}\n",
    "    for field1 in ['star_rating', 'verified_purchase', 'review_body', 'helpful_votes']:\n",
    "        d3[field1] = d1[field1]\n",
    "    dataset1.append(d3)"
   ]
  },
  {
   "cell_type": "code",
   "execution_count": 12,
   "metadata": {},
   "outputs": [
    {
     "data": {
      "text/plain": [
       "{'star_rating': 5,\n",
       " 'verified_purchase': 'Y',\n",
       " 'review_body': 38,\n",
       " 'helpful_votes': 0}"
      ]
     },
     "execution_count": 12,
     "metadata": {},
     "output_type": "execute_result"
    }
   ],
   "source": [
    "dataset1[0]"
   ]
  },
  {
   "cell_type": "code",
   "execution_count": 13,
   "metadata": {},
   "outputs": [],
   "source": [
    "def feature(datum):\n",
    "    return [1, datum['verified_purchase'] == 'Y', datum['review_body']]"
   ]
  },
  {
   "cell_type": "code",
   "execution_count": 14,
   "metadata": {},
   "outputs": [
    {
     "data": {
      "text/plain": [
       "[[1, True, 38],\n",
       " [1, True, 101],\n",
       " [1, True, 4],\n",
       " [1, True, 4],\n",
       " [1, True, 76],\n",
       " [1, True, 94],\n",
       " [1, True, 8],\n",
       " [1, True, 26],\n",
       " [1, True, 13],\n",
       " [1, True, 37]]"
      ]
     },
     "execution_count": 14,
     "metadata": {},
     "output_type": "execute_result"
    }
   ],
   "source": [
    "x = [feature(d) for d in dataset1]\n",
    "x[:10]"
   ]
  },
  {
   "cell_type": "code",
   "execution_count": 15,
   "metadata": {},
   "outputs": [
    {
     "data": {
      "text/plain": [
       "[5, 5, 5, 1, 5, 5, 5, 5, 1, 5]"
      ]
     },
     "execution_count": 15,
     "metadata": {},
     "output_type": "execute_result"
    }
   ],
   "source": [
    "y = [d['star_rating'] for d in dataset1]\n",
    "y[:10]"
   ]
  },
  {
   "cell_type": "code",
   "execution_count": 16,
   "metadata": {},
   "outputs": [
    {
     "data": {
      "text/plain": [
       "array([ 4.84461817e+00,  5.04148265e-02, -1.24659895e-03])"
      ]
     },
     "execution_count": 16,
     "metadata": {},
     "output_type": "execute_result"
    }
   ],
   "source": [
    "theta,residuals,rank,s = np.linalg.lstsq(x, y)\n",
    "theta"
   ]
  },
  {
   "cell_type": "markdown",
   "metadata": {},
   "source": [
    "##\n",
    "theta 0：If the review is not verified and with no comment, the rating is likely to be 4.84.\n",
    "##\n",
    "theta 1: Holding review length constant, the average star ratings for verified review is 0.05 more than a non-verified review.\n",
    "##\n",
    "theta 2: Holding 'review is verified' variable constant, the 1 character increase of comment will averagely decrease 0.0012 average star ratings.  "
   ]
  },
  {
   "cell_type": "markdown",
   "metadata": {},
   "source": [
    "### Tasks - Regression 4."
   ]
  },
  {
   "cell_type": "code",
   "execution_count": 17,
   "metadata": {},
   "outputs": [],
   "source": [
    "def feature1(datum):\n",
    "    return [1, datum['verified_purchase'] == 'Y']"
   ]
  },
  {
   "cell_type": "code",
   "execution_count": 18,
   "metadata": {},
   "outputs": [
    {
     "data": {
      "text/plain": [
       "[[1, True],\n",
       " [1, True],\n",
       " [1, True],\n",
       " [1, True],\n",
       " [1, True],\n",
       " [1, True],\n",
       " [1, True],\n",
       " [1, True],\n",
       " [1, True],\n",
       " [1, True]]"
      ]
     },
     "execution_count": 18,
     "metadata": {},
     "output_type": "execute_result"
    }
   ],
   "source": [
    "x1 = [feature1(d) for d in dataset1]\n",
    "x1[:10]"
   ]
  },
  {
   "cell_type": "code",
   "execution_count": 19,
   "metadata": {},
   "outputs": [
    {
     "data": {
      "text/plain": [
       "[5.0, 5.0, 5.0, 1.0, 5.0, 5.0, 5.0, 5.0, 1.0, 5.0]"
      ]
     },
     "execution_count": 19,
     "metadata": {},
     "output_type": "execute_result"
    }
   ],
   "source": [
    "y1 = [float(d['star_rating']) for d in dataset1]\n",
    "y1[:10]"
   ]
  },
  {
   "cell_type": "code",
   "execution_count": 20,
   "metadata": {},
   "outputs": [
    {
     "data": {
      "text/plain": [
       "array([4.57758356, 0.16852426])"
      ]
     },
     "execution_count": 20,
     "metadata": {},
     "output_type": "execute_result"
    }
   ],
   "source": [
    "theta1,residuals,rank,s = np.linalg.lstsq(x1, y1)\n",
    "theta1"
   ]
  },
  {
   "cell_type": "markdown",
   "metadata": {},
   "source": [
    "##\n",
    "The coefficient for verified purchase is much larger compared to the previous one. This change can be explained by the correlation between verified variable and review length. In the second regression, the verified purchase factor explains part of what review length explained in the first regression, causing the coefficient to change. "
   ]
  },
  {
   "cell_type": "markdown",
   "metadata": {},
   "source": [
    "### Tasks - Regression 5."
   ]
  },
  {
   "cell_type": "code",
   "execution_count": 21,
   "metadata": {},
   "outputs": [
    {
     "data": {
      "text/plain": [
       "134177"
      ]
     },
     "execution_count": 21,
     "metadata": {},
     "output_type": "execute_result"
    }
   ],
   "source": [
    "a = round(len(dataset1) * 0.9)\n",
    "a"
   ]
  },
  {
   "cell_type": "code",
   "execution_count": 22,
   "metadata": {},
   "outputs": [],
   "source": [
    "dataset2 = dataset1[:a]\n",
    "dataset3 = dataset1[a:]"
   ]
  },
  {
   "cell_type": "code",
   "execution_count": 23,
   "metadata": {},
   "outputs": [],
   "source": [
    "def feature2(datum):\n",
    "    feat = [1]\n",
    "    if datum['verified_purchase'] == \"Y\":\n",
    "        feat.append(1)\n",
    "    else:\n",
    "        feat.append(0)\n",
    "    return feat"
   ]
  },
  {
   "cell_type": "code",
   "execution_count": 24,
   "metadata": {},
   "outputs": [
    {
     "data": {
      "text/plain": [
       "[[1, 0],\n",
       " [1, 1],\n",
       " [1, 1],\n",
       " [1, 1],\n",
       " [1, 1],\n",
       " [1, 1],\n",
       " [1, 1],\n",
       " [1, 0],\n",
       " [1, 0],\n",
       " [1, 0]]"
      ]
     },
     "execution_count": 24,
     "metadata": {},
     "output_type": "execute_result"
    }
   ],
   "source": [
    "x2 = [feature2(d) for d in dataset2]\n",
    "x2[:10]\n",
    "x3 = [feature2(d) for d in dataset3]\n",
    "x3[:10]"
   ]
  },
  {
   "cell_type": "code",
   "execution_count": 25,
   "metadata": {},
   "outputs": [],
   "source": [
    "y2 = [float(d['star_rating']) for d in dataset2]\n",
    "y3 = [float(d['star_rating']) for d in dataset3]"
   ]
  },
  {
   "cell_type": "code",
   "execution_count": 26,
   "metadata": {},
   "outputs": [
    {
     "data": {
      "text/plain": [
       "[4.436571782178237, 0.31944365869311087]"
      ]
     },
     "execution_count": 26,
     "metadata": {},
     "output_type": "execute_result"
    }
   ],
   "source": [
    "theta2,residuals,rank,s = np.linalg.lstsq(x2, y2)\n",
    "theta2 = [float(t) for t in theta2]\n",
    "theta2"
   ]
  },
  {
   "cell_type": "code",
   "execution_count": 27,
   "metadata": {},
   "outputs": [],
   "source": [
    "def inner(x,y):\n",
    "    return sum([a*b for (a,b) in zip(x,y)])\n",
    "\n",
    "def derivative(X, Y, theta):\n",
    "    mse_1 = []\n",
    "    dtheta = [0.0]*len(theta) \n",
    "    K = len(theta)\n",
    "    N = len(X)\n",
    "    MSE = 0 \n",
    "    for i in range(N):\n",
    "        error = inner(X[i],theta) - Y[i]\n",
    "        for k in range(K):\n",
    "            dtheta[k] += 2*X[i][k]*error/N \n",
    "        MSE += error*error/N\n",
    "    mse_1.append(dtheta)\n",
    "    mse_1.append(MSE)\n",
    "    \n",
    "    return mse_1"
   ]
  },
  {
   "cell_type": "code",
   "execution_count": 28,
   "metadata": {},
   "outputs": [
    {
     "name": "stdout",
     "output_type": "stream",
     "text": [
      "0.6557415620280806\n",
      "0.9713823241628805\n"
     ]
    }
   ],
   "source": [
    "mse_train = derivative(x2,y2,theta2)\n",
    "mse_test = derivative(x3,y3,theta2)\n",
    "\n",
    "print(mse_train[1])\n",
    "print(mse_test[1])"
   ]
  },
  {
   "cell_type": "markdown",
   "metadata": {},
   "source": [
    "##\n",
    "MSE Training = 0.6557415620268976\n",
    "##\n",
    "MSE Testing = 0.9713823241631038\n"
   ]
  },
  {
   "cell_type": "markdown",
   "metadata": {},
   "source": [
    "###Tasks - Regression 7."
   ]
  },
  {
   "cell_type": "code",
   "execution_count": 29,
   "metadata": {},
   "outputs": [],
   "source": [
    "x_new = [feature2(d) for d in dataset1]\n",
    "y_new = y1"
   ]
  },
  {
   "cell_type": "code",
   "execution_count": 30,
   "metadata": {},
   "outputs": [],
   "source": [
    "percentage = []\n",
    "mse_training = []\n",
    "mse_testing = []\n",
    "N = len(dataset1)\n",
    "\n",
    "\n",
    "for i in range(1,20):\n",
    "\n",
    "    i = i*0.05\n",
    "    x_train = x_new[:int(N*i)]\n",
    "    y_train = y_new[:int(N*i)]\n",
    "    x_test = x_new[int(N*i):]\n",
    "    y_test = y_new[int(N*i):]\n",
    "    \n",
    "    theta_train,residuals,rank,s = np.linalg.lstsq(x_train,y_train)\n",
    "    theta_train = [float(t) for t in theta_train]\n",
    "    \n",
    "    theta_test,residuals,rank,s = np.linalg.lstsq(x_test,y_test)\n",
    "    theta_test = [float(t) for t in theta_test]\n",
    "    \n",
    "    mse_train = derivative(x_train,y_train,theta_train)\n",
    "    mse_test = derivative(x_test,y_test,theta_test)\n",
    "    \n",
    "    mse_train = mse_train[1]\n",
    "    mse_test = mse_test[1]\n",
    "\n",
    "    \n",
    "    percentage.append(int(i*100))\n",
    "    mse_training.append(mse_train)\n",
    "    mse_testing.append(mse_test)\n"
   ]
  },
  {
   "cell_type": "code",
   "execution_count": 32,
   "metadata": {},
   "outputs": [
    {
     "data": {
      "text/html": [
       "<div>\n",
       "<style scoped>\n",
       "    .dataframe tbody tr th:only-of-type {\n",
       "        vertical-align: middle;\n",
       "    }\n",
       "\n",
       "    .dataframe tbody tr th {\n",
       "        vertical-align: top;\n",
       "    }\n",
       "\n",
       "    .dataframe thead th {\n",
       "        text-align: right;\n",
       "    }\n",
       "</style>\n",
       "<table border=\"1\" class=\"dataframe\">\n",
       "  <thead>\n",
       "    <tr style=\"text-align: right;\">\n",
       "      <th></th>\n",
       "      <th>mse_training</th>\n",
       "      <th>mse_testing</th>\n",
       "    </tr>\n",
       "    <tr>\n",
       "      <th>percentage</th>\n",
       "      <th></th>\n",
       "      <th></th>\n",
       "    </tr>\n",
       "  </thead>\n",
       "  <tbody>\n",
       "    <tr>\n",
       "      <td>5</td>\n",
       "      <td>0.700698</td>\n",
       "      <td>0.684402</td>\n",
       "    </tr>\n",
       "    <tr>\n",
       "      <td>10</td>\n",
       "      <td>0.726814</td>\n",
       "      <td>0.680118</td>\n",
       "    </tr>\n",
       "    <tr>\n",
       "      <td>15</td>\n",
       "      <td>0.682504</td>\n",
       "      <td>0.684665</td>\n",
       "    </tr>\n",
       "    <tr>\n",
       "      <td>20</td>\n",
       "      <td>0.620824</td>\n",
       "      <td>0.700199</td>\n",
       "    </tr>\n",
       "    <tr>\n",
       "      <td>25</td>\n",
       "      <td>0.596672</td>\n",
       "      <td>0.713448</td>\n",
       "    </tr>\n",
       "    <tr>\n",
       "      <td>30</td>\n",
       "      <td>0.588773</td>\n",
       "      <td>0.724731</td>\n",
       "    </tr>\n",
       "    <tr>\n",
       "      <td>35</td>\n",
       "      <td>0.595141</td>\n",
       "      <td>0.730666</td>\n",
       "    </tr>\n",
       "    <tr>\n",
       "      <td>40</td>\n",
       "      <td>0.588155</td>\n",
       "      <td>0.745999</td>\n",
       "    </tr>\n",
       "    <tr>\n",
       "      <td>45</td>\n",
       "      <td>0.574670</td>\n",
       "      <td>0.770323</td>\n",
       "    </tr>\n",
       "    <tr>\n",
       "      <td>50</td>\n",
       "      <td>0.583882</td>\n",
       "      <td>0.780568</td>\n",
       "    </tr>\n",
       "    <tr>\n",
       "      <td>55</td>\n",
       "      <td>0.594842</td>\n",
       "      <td>0.788991</td>\n",
       "    </tr>\n",
       "    <tr>\n",
       "      <td>60</td>\n",
       "      <td>0.611891</td>\n",
       "      <td>0.788644</td>\n",
       "    </tr>\n",
       "    <tr>\n",
       "      <td>65</td>\n",
       "      <td>0.637728</td>\n",
       "      <td>0.766238</td>\n",
       "    </tr>\n",
       "    <tr>\n",
       "      <td>70</td>\n",
       "      <td>0.639583</td>\n",
       "      <td>0.783386</td>\n",
       "    </tr>\n",
       "    <tr>\n",
       "      <td>75</td>\n",
       "      <td>0.640726</td>\n",
       "      <td>0.807955</td>\n",
       "    </tr>\n",
       "    <tr>\n",
       "      <td>80</td>\n",
       "      <td>0.638091</td>\n",
       "      <td>0.859152</td>\n",
       "    </tr>\n",
       "    <tr>\n",
       "      <td>85</td>\n",
       "      <td>0.642799</td>\n",
       "      <td>0.901435</td>\n",
       "    </tr>\n",
       "    <tr>\n",
       "      <td>90</td>\n",
       "      <td>0.655742</td>\n",
       "      <td>0.922265</td>\n",
       "    </tr>\n",
       "    <tr>\n",
       "      <td>95</td>\n",
       "      <td>0.654773</td>\n",
       "      <td>1.231770</td>\n",
       "    </tr>\n",
       "  </tbody>\n",
       "</table>\n",
       "</div>"
      ],
      "text/plain": [
       "            mse_training  mse_testing\n",
       "percentage                           \n",
       "5               0.700698     0.684402\n",
       "10              0.726814     0.680118\n",
       "15              0.682504     0.684665\n",
       "20              0.620824     0.700199\n",
       "25              0.596672     0.713448\n",
       "30              0.588773     0.724731\n",
       "35              0.595141     0.730666\n",
       "40              0.588155     0.745999\n",
       "45              0.574670     0.770323\n",
       "50              0.583882     0.780568\n",
       "55              0.594842     0.788991\n",
       "60              0.611891     0.788644\n",
       "65              0.637728     0.766238\n",
       "70              0.639583     0.783386\n",
       "75              0.640726     0.807955\n",
       "80              0.638091     0.859152\n",
       "85              0.642799     0.901435\n",
       "90              0.655742     0.922265\n",
       "95              0.654773     1.231770"
      ]
     },
     "execution_count": 32,
     "metadata": {},
     "output_type": "execute_result"
    }
   ],
   "source": [
    "import pandas as pd\n",
    "dict = {'percentage':percentage, 'mse_training':mse_training, 'mse_testing':mse_testing}\n",
    "\n",
    "df = pd.DataFrame(dict)\n",
    "df.set_index('percentage', inplace=True)\n",
    "df"
   ]
  },
  {
   "cell_type": "code",
   "execution_count": 33,
   "metadata": {},
   "outputs": [
    {
     "data": {
      "text/plain": [
       "Text(0.5, 1.0, 'Trend of MSE by Varying the Size of Training and Test Fractions ')"
      ]
     },
     "execution_count": 33,
     "metadata": {},
     "output_type": "execute_result"
    },
    {
     "data": {
      "image/png": "[encoded data removed]",
      "text/plain": [
       "<Figure size 432x288 with 1 Axes>"
      ]
     },
     "metadata": {
      "needs_background": "light"
     },
     "output_type": "display_data"
    }
   ],
   "source": [
    "df.plot()\n",
    "plt.xlabel('Train Set Fraction %')\n",
    "plt.ylabel('MSE')\n",
    "plt.title('Trend of MSE by Varying the Size of Training and Test Fractions ')"
   ]
  },
  {
   "cell_type": "markdown",
   "metadata": {},
   "source": [
    "The size does not make a significant difference in testing performance unless the train set fraction is 90% or more. This may be explained by the low correlation between verified variable and star rating."
   ]
  },
  {
   "cell_type": "markdown",
   "metadata": {},
   "source": [
    "### Tasks - Classification 8."
   ]
  },
  {
   "cell_type": "code",
   "execution_count": 34,
   "metadata": {},
   "outputs": [],
   "source": [
    "def feature3(datum):\n",
    "    return [1, float(datum['star_rating']), float(datum['review_body'])]"
   ]
  },
  {
   "cell_type": "code",
   "execution_count": 35,
   "metadata": {},
   "outputs": [
    {
     "data": {
      "text/plain": [
       "[[1, 5.0, 231.0],\n",
       " [1, 5.0, 152.0],\n",
       " [1, 5.0, 124.0],\n",
       " [1, 1.0, 209.0],\n",
       " [1, 5.0, 1278.0],\n",
       " [1, 5.0, 245.0],\n",
       " [1, 5.0, 246.0],\n",
       " [1, 5.0, 248.0],\n",
       " [1, 5.0, 144.0],\n",
       " [1, 5.0, 258.0]]"
      ]
     },
     "execution_count": 35,
     "metadata": {},
     "output_type": "execute_result"
    }
   ],
   "source": [
    "x4 = [feature3(d) for d in dataset2]\n",
    "x4[:10]\n",
    "x5 = [feature3(d) for d in dataset3]\n",
    "x5[:10]"
   ]
  },
  {
   "cell_type": "code",
   "execution_count": 36,
   "metadata": {},
   "outputs": [],
   "source": [
    "y4 = [d['verified_purchase' ] for d in dataset2]\n",
    "y5 = [d['verified_purchase' ] for d in dataset3]"
   ]
  },
  {
   "cell_type": "code",
   "execution_count": 37,
   "metadata": {},
   "outputs": [
    {
     "data": {
      "text/plain": [
       "LogisticRegression(C=1.0, class_weight=None, dual=False, fit_intercept=True,\n",
       "                   intercept_scaling=1, l1_ratio=None, max_iter=100,\n",
       "                   multi_class='warn', n_jobs=None, penalty='l2',\n",
       "                   random_state=None, solver='warn', tol=0.0001, verbose=0,\n",
       "                   warm_start=False)"
      ]
     },
     "execution_count": 37,
     "metadata": {},
     "output_type": "execute_result"
    }
   ],
   "source": [
    "from sklearn import linear_model\n",
    "\n",
    "model = linear_model.LogisticRegression()\n",
    "model.fit(x4, y4)"
   ]
  },
  {
   "cell_type": "code",
   "execution_count": 38,
   "metadata": {},
   "outputs": [
    {
     "name": "stdout",
     "output_type": "stream",
     "text": [
      "['Y' 'Y' 'Y' ... 'Y' 'Y' 'Y']\n"
     ]
    }
   ],
   "source": [
    "predictionsTrain = model.predict(x4)\n",
    "predictionsTest = model.predict(x5)\n",
    "print(predictionsTrain)"
   ]
  },
  {
   "cell_type": "code",
   "execution_count": 39,
   "metadata": {},
   "outputs": [],
   "source": [
    "correctPredictionsTrain = predictionsTrain == y4\n",
    "correctPredictionsTest = predictionsTest == y5"
   ]
  },
  {
   "cell_type": "markdown",
   "metadata": {},
   "source": [
    "Training accuracy: \n",
    "\n",
    "\n"
   ]
  },
  {
   "cell_type": "code",
   "execution_count": 40,
   "metadata": {},
   "outputs": [
    {
     "data": {
      "text/plain": [
       "0.9516161488183519"
      ]
     },
     "execution_count": 40,
     "metadata": {},
     "output_type": "execute_result"
    }
   ],
   "source": [
    "np.sum(correctPredictionsTrain) / len(correctPredictionsTrain)\n"
   ]
  },
  {
   "cell_type": "markdown",
   "metadata": {},
   "source": [
    "Test accuracy:\n",
    "\n"
   ]
  },
  {
   "cell_type": "code",
   "execution_count": 41,
   "metadata": {},
   "outputs": [
    {
     "data": {
      "text/plain": [
       "0.5589241397813401"
      ]
     },
     "execution_count": 41,
     "metadata": {},
     "output_type": "execute_result"
    }
   ],
   "source": [
    "np.sum(correctPredictionsTest) / len(correctPredictionsTest)\n"
   ]
  },
  {
   "cell_type": "code",
   "execution_count": 42,
   "metadata": {},
   "outputs": [
    {
     "data": {
      "text/plain": [
       "0.9125068752263794"
      ]
     },
     "execution_count": 42,
     "metadata": {},
     "output_type": "execute_result"
    }
   ],
   "source": [
    "##### proportion of labels that are positive\n",
    "p_lables = (y4.count('Y') + y5.count('Y'))/(len(y4)+len(y5))\n",
    "p_lables"
   ]
  },
  {
   "cell_type": "code",
   "execution_count": 44,
   "metadata": {},
   "outputs": [
    {
     "data": {
      "text/plain": [
       "0.9995975477241323"
      ]
     },
     "execution_count": 44,
     "metadata": {},
     "output_type": "execute_result"
    }
   ],
   "source": [
    "##### proportion of predictions that are positive\n",
    "\n",
    "a = list(predictionsTrain)\n",
    "b = list(predictionsTest)\n",
    "\n",
    "p_predict = (a.count('Y') + b.count('Y'))/(len(a) + len(b))\n",
    "p_predict"
   ]
  },
  {
   "cell_type": "markdown",
   "metadata": {},
   "source": [
    "### Tasks - Classification 9."
   ]
  },
  {
   "cell_type": "code",
   "execution_count": 45,
   "metadata": {},
   "outputs": [
    {
     "data": {
      "text/plain": [
       "[[1, 38, 0], [1, 101, 0], [1, 4, 0], [1, 4, 0], [1, 76, 0]]"
      ]
     },
     "execution_count": 45,
     "metadata": {},
     "output_type": "execute_result"
    }
   ],
   "source": [
    "def feature4(datum):\n",
    "    return [1, datum['review_body'], datum['helpful_votes']]\n",
    "\n",
    "X = [feature4(d) for d in dataset1]\n",
    "X[:5]"
   ]
  },
  {
   "cell_type": "code",
   "execution_count": 46,
   "metadata": {},
   "outputs": [
    {
     "data": {
      "text/plain": [
       "['Y', 'Y', 'Y', 'Y', 'Y']"
      ]
     },
     "execution_count": 46,
     "metadata": {},
     "output_type": "execute_result"
    }
   ],
   "source": [
    "Y = [d['verified_purchase' ] for d in dataset1]\n",
    "Y[:5]"
   ]
  },
  {
   "cell_type": "code",
   "execution_count": 47,
   "metadata": {},
   "outputs": [
    {
     "data": {
      "text/plain": [
       "LogisticRegression(C=1.0, class_weight=None, dual=False, fit_intercept=True,\n",
       "                   intercept_scaling=1, l1_ratio=None, max_iter=100,\n",
       "                   multi_class='warn', n_jobs=None, penalty='l2',\n",
       "                   random_state=None, solver='warn', tol=0.0001, verbose=0,\n",
       "                   warm_start=False)"
      ]
     },
     "execution_count": 47,
     "metadata": {},
     "output_type": "execute_result"
    }
   ],
   "source": [
    "e = round(len(dataset1)*0.9)\n",
    "X_train = X[:e]\n",
    "X_test = X[e:]\n",
    "Y_train = Y[:e]\n",
    "Y_test = Y[e:]\n",
    "\n",
    "model.fit(X_train, Y_train)\n"
   ]
  },
  {
   "cell_type": "code",
   "execution_count": 48,
   "metadata": {},
   "outputs": [],
   "source": [
    "predictionsTrain1 = model.predict(X_train)\n",
    "predictionsTest1 = model.predict(X_test)\n"
   ]
  },
  {
   "cell_type": "code",
   "execution_count": 49,
   "metadata": {},
   "outputs": [
    {
     "name": "stdout",
     "output_type": "stream",
     "text": [
      "0.9515565260812211\n",
      "0.5584546247233215\n"
     ]
    }
   ],
   "source": [
    "correctPredictionsTrain1 = predictionsTrain1 == Y_train\n",
    "correctPredictionsTest1 = predictionsTest1 == Y_test\n",
    "accuracy_train = np.sum(correctPredictionsTrain1) / len(correctPredictionsTrain1)\n",
    "accuracy_test = np.sum(correctPredictionsTest1) / len(correctPredictionsTest1)\n",
    "print(accuracy_train)\n",
    "print(accuracy_test)"
   ]
  },
  {
   "cell_type": "markdown",
   "metadata": {},
   "source": [
    "##My predictor is :\n",
    "p(review is verified) ~ δ(theta0 + theta1 * ['review length'] + theta2*['helpful votes']\n",
    "##\n",
    "train accuracy is 0.9515565260812211\n",
    "\n",
    "##\n",
    "test accuracy is 0.5584546247233215\n",
    "\n",
    "##\n",
    "Both train and test accuracy are slightly lower than the previous predictor model. If we want to increase the accuracy, we could shuffle the dataset at the beginning. "
   ]
  },
  {
   "cell_type": "code",
   "execution_count": 50,
   "metadata": {},
   "outputs": [
    {
     "data": {
      "text/plain": [
       "LogisticRegression(C=1.0, class_weight=None, dual=False, fit_intercept=True,\n",
       "                   intercept_scaling=1, l1_ratio=None, max_iter=100,\n",
       "                   multi_class='warn', n_jobs=None, penalty='l2',\n",
       "                   random_state=None, solver='warn', tol=0.0001, verbose=0,\n",
       "                   warm_start=False)"
      ]
     },
     "execution_count": 50,
     "metadata": {},
     "output_type": "execute_result"
    }
   ],
   "source": [
    "import random\n",
    "random.shuffle(dataset1)\n",
    "\n",
    "X1 = [feature4(d) for d in dataset1]\n",
    "Y1 = [d['verified_purchase' ] for d in dataset1]\n",
    "e1 = round(len(dataset1)*0.9)\n",
    "X_train1 = X1[:e1]\n",
    "X_test1 = X1[e1:]\n",
    "Y_train1 = Y1[:e1]\n",
    "Y_test1 = Y1[e1:]\n",
    "\n",
    "model.fit(X_train1, Y_train1)\n"
   ]
  },
  {
   "cell_type": "code",
   "execution_count": 51,
   "metadata": {},
   "outputs": [],
   "source": [
    "predictionsTrain2 = model.predict(X_train1)\n",
    "predictionsTest2 = model.predict(X_test1)\n"
   ]
  },
  {
   "cell_type": "code",
   "execution_count": 52,
   "metadata": {},
   "outputs": [
    {
     "name": "stdout",
     "output_type": "stream",
     "text": [
      "train accuracy after shuffle is 0.9106627812516304\n",
      "test accuracy after shuffle is 0.9122677577302301\n"
     ]
    }
   ],
   "source": [
    "correctPredictionsTrain2 = predictionsTrain2 == Y_train1\n",
    "correctPredictionsTest2 = predictionsTest2 == Y_test1\n",
    "accuracy_train1 = np.sum(correctPredictionsTrain2) / len(correctPredictionsTrain2)\n",
    "accuracy_test1 = np.sum(correctPredictionsTest2) / len(correctPredictionsTest2)\n",
    "print('train accuracy after shuffle is ' + str(accuracy_train1))\n",
    "print('test accuracy after shuffle is ' + str(accuracy_test1))"
   ]
  }
 ],
 "metadata": {
  "kernelspec": {
   "display_name": "Python 3",
   "language": "python",
   "name": "python3"
  },
  "language_info": {
   "codemirror_mode": {
    "name": "ipython",
    "version": 3
   },
   "file_extension": ".py",
   "mimetype": "text/x-python",
   "name": "python",
   "nbconvert_exporter": "python",
   "pygments_lexer": "ipython3",
   "version": "3.6.8"
  }
 },
 "nbformat": 4,
 "nbformat_minor": 4
}
